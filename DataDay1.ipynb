{
 "cells": [
  {
   "cell_type": "markdown",
   "metadata": {},
   "source": [
    "# Data Dashboard Example\n",
    "For this demo we are using the jupyter-hub demo that runs directly on Cori.\n",
    "\n",
    "For now, this has the driver process and executor process on the same node. Executor process is limited to only one core so as to not swamp the node.\n",
    "\n",
    "Most Spark jobs will be done via the batch system, with a single node working as the driver and many other nodes running the executors."
   ]
  },
  {
   "cell_type": "code",
   "execution_count": 1,
   "metadata": {
    "collapsed": false
   },
   "outputs": [],
   "source": [
    "%matplotlib inline"
   ]
  },
  {
   "cell_type": "markdown",
   "metadata": {},
   "source": [
    "## Load Spark modules and create a Spark session\n",
    "Spark session name is optional"
   ]
  },
  {
   "cell_type": "code",
   "execution_count": 2,
   "metadata": {
    "collapsed": false
   },
   "outputs": [],
   "source": [
    "from pyspark.sql import SparkSession\n",
    "from pyspark.sql.functions import col, size, udf, sum, count\n",
    "from pyspark.sql.types import StructType, StructField, LongType, StringType, IntegerType\n",
    "import pandas as pd\n",
    "import matplotlib.pyplot as plt\n",
    "\n",
    "#Get a hook to the spark session\n",
    "spark = SparkSession.builder.appName(\"DataDash\").getOrCreate()"
   ]
  },
  {
   "cell_type": "markdown",
   "metadata": {},
   "source": [
    "### Data Loading\n",
    "Read in data file from text."
   ]
  },
  {
   "cell_type": "code",
   "execution_count": 3,
   "metadata": {
    "collapsed": false
   },
   "outputs": [
    {
     "name": "stdout",
     "output_type": "stream",
     "text": [
      "-rw-rw-r-- 1 lgerhard ccc 29M Aug 21  2016 /global/project/projectdirs/mpccc/lgerhard/data_day/frac_m1523.txt\n",
      "90000 /global/project/projectdirs/mpccc/lgerhard/data_day/frac_m1523.txt\n"
     ]
    }
   ],
   "source": [
    "infile = \"/global/project/projectdirs/mpccc/lgerhard/data_day/frac_m1523.txt\"\n",
    "outdir = \"/global/project/projectdirs/mpccc/lgerhard/out_temp\"\n",
    "\n",
    "! ls -lh /global/project/projectdirs/mpccc/lgerhard/data_day/frac_m1523.txt\n",
    "! wc -l /global/project/projectdirs/mpccc/lgerhard/data_day/frac_m1523.txt"
   ]
  },
  {
   "cell_type": "markdown",
   "metadata": {},
   "source": [
    "Create a schema for DataFrame and read it in.\n",
    "\n",
    "The schema can also be inferred from the data file and it can harvest the column names automatically."
   ]
  },
  {
   "cell_type": "code",
   "execution_count": 4,
   "metadata": {
    "collapsed": false
   },
   "outputs": [
    {
     "name": "stdout",
     "output_type": "stream",
     "text": [
      "CPU times: user 0 ns, sys: 4.66 ms, total: 4.66 ms\n",
      "Wall time: 6.25 s\n"
     ]
    }
   ],
   "source": [
    "#Define data schema\n",
    "dataschema = StructType([ \\\n",
    "StructField(\"inode\", LongType(),True), \\\n",
    "StructField(\"gnum\", LongType(),True), \\\n",
    "StructField(\"sid\", LongType(),True), \\\n",
    "StructField(\"white\",StringType(),True), \\\n",
    "StructField(\"size\", LongType(),True), \\\n",
    "StructField(\"fileset\", StringType(),True), \\\n",
    "StructField(\"gnum2\", LongType(),True), \\\n",
    "StructField(\"misc\", StringType(),True), \\\n",
    "StructField(\"nlink\", LongType(),True), \\\n",
    "StructField(\"uid\", LongType(),True), \\\n",
    "StructField(\"gid\", LongType(),True), \\\n",
    "StructField(\"mode\", StringType(),True), \\\n",
    "StructField(\"atime\", LongType(),True), \\\n",
    "StructField(\"mtime\", LongType(),True), \\\n",
    "StructField(\"bsize\", LongType(),True), \\\n",
    "StructField(\"ctime\", LongType(),True), \\\n",
    "StructField(\"sep\", StringType(),True), \\\n",
    "StructField(\"path\", StringType(),True)])\n",
    "\n",
    "#Read in data with given schema\n",
    "%time dfdir = spark.read.csv(infile,sep=\" \",schema=dataschema)"
   ]
  },
  {
   "cell_type": "code",
   "execution_count": 5,
   "metadata": {
    "collapsed": false
   },
   "outputs": [
    {
     "name": "stdout",
     "output_type": "stream",
     "text": [
      "+--------+-----+---+-----+------+----------+-----+----+-----+-----+-----+----------+----------+----------+-------+----------+---+--------------------+\n",
      "|   inode| gnum|sid|white|  size|   fileset|gnum2|misc|nlink|  uid|  gid|      mode|     atime|     mtime|  bsize|     ctime|sep|                path|\n",
      "+--------+-----+---+-----+------+----------+-----+----+-----+-----+-----+----------+----------+----------+-------+----------+---+--------------------+\n",
      "|61696771|65539|701|     | 33650|paralleldb|65539| FAu|    1|45277|55576|-rw-r--r--|1368739473|1262887452|4194304|1382632459| --|%2Fproject%2F.sna...|\n",
      "|61696772|65539|701|     |   296|paralleldb|65539| FAu|    1|45277|55576|-rw-r--r--|1368739473|1091829779|4194304|1382632459| --|%2Fproject%2F.sna...|\n",
      "|61696773|65539|701|     |  7194|paralleldb|65539| FAu|    1|45277|55576|-rw-r--r--|1368739473|1269198988|4194304|1382632459| --|%2Fproject%2F.sna...|\n",
      "|61696774|65539|701|     |  3193|paralleldb|65539| FAu|    1|45277|55576|-rw-r--r--|1368739473|1202326129|4194304|1382632459| --|%2Fproject%2F.sna...|\n",
      "|61696775|65539|701|     |  2215|paralleldb|65539| FAu|    1|45277|55576|-rw-r--r--|1368739473|1203788411|4194304|1382632459| --|%2Fproject%2F.sna...|\n",
      "|61696776|65539|701|     |  2065|paralleldb|65539| FAu|    1|45277|55576|-rw-r--r--|1368739473|1271878888|4194304|1382632459| --|%2Fproject%2F.sna...|\n",
      "|61696777|65539|701|     |   814|paralleldb|65539| FAu|    1|45277|55576|-rw-r--r--|1368739473|1175621388|4194304|1382632459| --|%2Fproject%2F.sna...|\n",
      "|61696778|65539|701|     |  6859|paralleldb|65539| FAu|    1|45277|55576|-rwxr-xr-x|1368739473|1227047220|4194304|1382632459| --|%2Fproject%2F.sna...|\n",
      "|61696779|65539|701|     |  1484|paralleldb|65539| FAu|    1|45277|55576|-rw-r--r--|1368739473|1217461768|4194304|1382632459| --|%2Fproject%2F.sna...|\n",
      "|61696780|65539|701|     |  1350|paralleldb|65539| FAu|    1|45277|55576|-rw-r--r--|1368739473|1213396713|4194304|1382632459| --|%2Fproject%2F.sna...|\n",
      "|61696781|65539|701|     |   462|paralleldb|65539| FAu|    1|45277|55576|-rw-r--r--|1368739473|1177522192|4194304|1382632459| --|%2Fproject%2F.sna...|\n",
      "|61696782|65539|701|     |   982|paralleldb|65539| FAu|    1|45277|55576|-rw-r--r--|1368739473|1186200618|4194304|1382632459| --|%2Fproject%2F.sna...|\n",
      "|61696783|65539|701|     |  2556|paralleldb|65539| FAu|    1|45277|55576|-rw-r--r--|1368739473|1203788411|4194304|1382632459| --|%2Fproject%2F.sna...|\n",
      "|61696784|65539|701|     |  6543|paralleldb|65539| FAu|    1|45277|55576|-rwxr-xr-x|1368739473|1280814903|4194304|1382632459| --|%2Fproject%2F.sna...|\n",
      "|61696785|65539|701|     | 29550|paralleldb|65539| FAu|    1|45277|55576|-rw-r--r--|1368739473|1279657094|4194304|1382632459| --|%2Fproject%2F.sna...|\n",
      "|61696786|65539|701|     | 60037|paralleldb|65539| FAu|    1|45277|55576|-rw-r--r--|1368739473| 860621101|4194304|1382632459| --|%2Fproject%2F.sna...|\n",
      "|61696787|65539|701|     |  5645|paralleldb|65539| FAu|    1|45277|55576|-rw-r--r--|1368739473|1259002473|4194304|1382632459| --|%2Fproject%2F.sna...|\n",
      "|61696788|65539|701|     |  9802|paralleldb|65539| FAu|    1|45277|55576|-rw-r--r--|1368739473|1280774455|4194304|1382632459| --|%2Fproject%2F.sna...|\n",
      "|61696789|65539|701|     |  5316|paralleldb|65539| FAu|    1|45277|55576|-rw-r--r--|1368739473|1207806399|4194304|1382632459| --|%2Fproject%2F.sna...|\n",
      "|61696790|65539|701|     |131072|paralleldb|65539| D2u|    2|45277|55576|drwxr-sr-x|1468458485|1282655464| 131072|1382632459| --|%2Fproject%2F.sna...|\n",
      "+--------+-----+---+-----+------+----------+-----+----+-----+-----+-----+----------+----------+----------+-------+----------+---+--------------------+\n",
      "only showing top 20 rows\n",
      "\n",
      "CPU times: user 1.95 ms, sys: 0 ns, total: 1.95 ms\n",
      "Wall time: 1.5 s\n"
     ]
    }
   ],
   "source": [
    "#what did we get?\n",
    "%time dfdir.show()"
   ]
  },
  {
   "cell_type": "code",
   "execution_count": 6,
   "metadata": {
    "collapsed": false
   },
   "outputs": [
    {
     "name": "stdout",
     "output_type": "stream",
     "text": [
      "CPU times: user 1.31 ms, sys: 538 µs, total: 1.85 ms\n",
      "Wall time: 1.1 s\n"
     ]
    },
    {
     "data": {
      "text/plain": [
       "90000"
      ]
     },
     "execution_count": 6,
     "metadata": {},
     "output_type": "execute_result"
    }
   ],
   "source": [
    "%time dfdir.count()"
   ]
  },
  {
   "cell_type": "markdown",
   "metadata": {},
   "source": [
    "### Data cleaning\n",
    "Have some directories that look like\n",
    "/project/projectdirs/gt\n",
    "these are used for system-level stuff we don't care about. Toss 'em.\n",
    "\n",
    "Remember input file uses \"%2F\" in place of \"/\" in directory path"
   ]
  },
  {
   "cell_type": "code",
   "execution_count": 7,
   "metadata": {
    "collapsed": true
   },
   "outputs": [],
   "source": [
    "def cleaner(path,fileset):\n",
    "    # Skip lines with projectdirs/gt in them (this is give/take directory)\n",
    "    if \"projectdirs%2Fgt\" in path:\n",
    "        return 0\n",
    "    return 1"
   ]
  },
  {
   "cell_type": "markdown",
   "metadata": {},
   "source": [
    "Only certain functions pre-canned are available: avg, collect, count, first, group, kurtosis, last, max, mean, min, skewness, stddev, sum\n",
    "\n",
    "For everything else, can use a UDF.\n",
    "\n",
    "Note the use of cache. Because we will be using this dataset again below, it tells Spark to keep it in memory."
   ]
  },
  {
   "cell_type": "code",
   "execution_count": 8,
   "metadata": {
    "collapsed": false
   },
   "outputs": [
    {
     "name": "stdout",
     "output_type": "stream",
     "text": [
      "CPU times: user 1.96 ms, sys: 0 ns, total: 1.96 ms\n",
      "Wall time: 323 ms\n",
      "CPU times: user 2.27 ms, sys: 423 µs, total: 2.7 ms\n",
      "Wall time: 5.37 s\n"
     ]
    },
    {
     "data": {
      "text/plain": [
       "89900"
      ]
     },
     "execution_count": 8,
     "metadata": {},
     "output_type": "execute_result"
    }
   ],
   "source": [
    "#Make UDF to invoke cleaner function\n",
    "clean_ = udf(lambda p,q: cleaner(p,q), IntegerType())\n",
    "%time cleandir = dfdir.filter(clean_(col(\"path\"),col(\"fileset\"))==1).cache()\n",
    "%time cleandir.count()"
   ]
  },
  {
   "cell_type": "markdown",
   "metadata": {},
   "source": [
    "### Data analysis\n",
    "Want to loop over all the entries and calculate the total size (in bytes) in each project directory belonging to each user. Also want to count the number of files that each user owns.\n",
    "\n",
    "Then write this out to a text file. When data is written, each process will write its tiny part of the output. This can be annoying when you have a datset that has 30,000 partitions, so use coalesce to collapse it down to a smaller number. A good value for this is the number of executor nodes, which allows Spark to avoid extra shuffling."
   ]
  },
  {
   "cell_type": "code",
   "execution_count": 9,
   "metadata": {
    "collapsed": false
   },
   "outputs": [
    {
     "name": "stdout",
     "output_type": "stream",
     "text": [
      "CPU times: user 2.38 ms, sys: 970 µs, total: 3.35 ms\n",
      "Wall time: 61.3 ms\n",
      "CPU times: user 2.26 ms, sys: 0 ns, total: 2.26 ms\n",
      "Wall time: 1.91 s\n"
     ]
    }
   ],
   "source": [
    "#Group by project and user and sum size and number of inodes\n",
    "%time tempdf = cleandir.groupBy([\"fileset\",\"uid\"]).agg({\"size\":\"sum\",\"fileset\":\"count\"})\n",
    "%time tempdf.coalesce(10).write.csv(outdir,mode=\"overwrite\")"
   ]
  },
  {
   "cell_type": "code",
   "execution_count": 10,
   "metadata": {
    "collapsed": false
   },
   "outputs": [
    {
     "name": "stdout",
     "output_type": "stream",
     "text": [
      "total 0\r\n",
      "-rw-r--r-- 1 lgerhard nstaff   0 Sep 20 09:56 _SUCCESS\r\n",
      "-rw-r--r-- 1 lgerhard nstaff  65 Sep 20 09:56 part-r-00000-66c343e9-d637-4a96-95c0-1adf2ac4c6c7.csv\r\n",
      "-rw-r--r-- 1 lgerhard nstaff  63 Sep 20 09:56 part-r-00001-66c343e9-d637-4a96-95c0-1adf2ac4c6c7.csv\r\n",
      "-rw-r--r-- 1 lgerhard nstaff 134 Sep 20 09:56 part-r-00002-66c343e9-d637-4a96-95c0-1adf2ac4c6c7.csv\r\n",
      "-rw-r--r-- 1 lgerhard nstaff   0 Sep 20 09:56 part-r-00003-66c343e9-d637-4a96-95c0-1adf2ac4c6c7.csv\r\n",
      "-rw-r--r-- 1 lgerhard nstaff 151 Sep 20 09:56 part-r-00004-66c343e9-d637-4a96-95c0-1adf2ac4c6c7.csv\r\n",
      "-rw-r--r-- 1 lgerhard nstaff 101 Sep 20 09:56 part-r-00005-66c343e9-d637-4a96-95c0-1adf2ac4c6c7.csv\r\n",
      "-rw-r--r-- 1 lgerhard nstaff 156 Sep 20 09:56 part-r-00006-66c343e9-d637-4a96-95c0-1adf2ac4c6c7.csv\r\n",
      "-rw-r--r-- 1 lgerhard nstaff  88 Sep 20 09:56 part-r-00007-66c343e9-d637-4a96-95c0-1adf2ac4c6c7.csv\r\n",
      "-rw-r--r-- 1 lgerhard nstaff  95 Sep 20 09:56 part-r-00008-66c343e9-d637-4a96-95c0-1adf2ac4c6c7.csv\r\n",
      "-rw-r--r-- 1 lgerhard nstaff 123 Sep 20 09:56 part-r-00009-66c343e9-d637-4a96-95c0-1adf2ac4c6c7.csv\r\n"
     ]
    }
   ],
   "source": [
    "!ls -lh /global/project/projectdirs/mpccc/lgerhard/out_temp/"
   ]
  },
  {
   "cell_type": "code",
   "execution_count": 11,
   "metadata": {
    "collapsed": false
   },
   "outputs": [
    {
     "name": "stdout",
     "output_type": "stream",
     "text": [
      "paralleldb,55710,565,18342399426\r\n",
      "paralleldb,57828,1661,603758699\r\n",
      "paralleldb,55683,10718,196204722544\r\n",
      "paralleldb,59777,24,303732\r\n",
      "paralleldb,59408,62,5370754856\r\n",
      "paralleldb,56547,1157,1438890701757\r\n",
      "paralleldb,55684,5417,74420354020\r\n",
      "paralleldb,58362,56,281184410241\r\n",
      "paralleldb,59392,20833,104027273701\r\n",
      "paralleldb,60023,111,318374310\r\n",
      "paralleldb,61017,73,4038780\r\n",
      "paralleldb,32331,12,117462364\r\n",
      "paralleldb,34359,1,131072\r\n",
      "paralleldb,45277,33343,254310489275\r\n",
      "paralleldb,61228,2475,60413573602\r\n",
      "paralleldb,65141,1,26141060589\r\n",
      "paralleldb,57774,48,52605863028\r\n",
      "paralleldb,59354,332,3528086616706\r\n",
      "paralleldb,52894,2,1024\r\n",
      "paralleldb,20896,3202,24442397343\r\n",
      "paralleldb,56233,46,3240841809\r\n",
      "paralleldb,57833,12,8628847081\r\n",
      "paralleldb,65801,1,131072\r\n",
      "paralleldb,63033,18,1880018155\r\n",
      "paralleldb,59776,1103,47939605\r\n",
      "paralleldb,58491,2,134411671872\r\n",
      "paralleldb,30609,182,4097847417\r\n",
      "paralleldb,61504,1024,3025887324\r\n",
      "paralleldb,70977,1,36887\r\n",
      "paralleldb,43940,7200,2090311669\r\n",
      "paralleldb,63028,218,4674096675\r\n"
     ]
    }
   ],
   "source": [
    "!cat /global/project/projectdirs/mpccc/lgerhard/out_temp/part*"
   ]
  },
  {
   "cell_type": "markdown",
   "metadata": {},
   "source": [
    "### Move between Spark DataFrame and Pandas DataFrame\n",
    "Use this with caution!!\n",
    "\n",
    "It will pull **all** of the data onto the driver node. This can **easily** exceed the available memory of the driver node for a large dataset."
   ]
  },
  {
   "cell_type": "code",
   "execution_count": 12,
   "metadata": {
    "collapsed": false
   },
   "outputs": [
    {
     "name": "stdout",
     "output_type": "stream",
     "text": [
      "CPU times: user 672 ms, sys: 108 ms, total: 781 ms\n",
      "Wall time: 2.49 s\n"
     ]
    }
   ],
   "source": [
    "#Convert to pandas dataframe\n",
    "%time pddir = cleandir.toPandas()"
   ]
  },
  {
   "cell_type": "code",
   "execution_count": 13,
   "metadata": {
    "collapsed": false
   },
   "outputs": [
    {
     "data": {
      "text/plain": [
       "<matplotlib.text.Text at 0x2b327e443190>"
      ]
     },
     "execution_count": 13,
     "metadata": {},
     "output_type": "execute_result"
    },
    {
     "data": {
      "image/png": "[encoded data removed]",
      "text/plain": [
       "<matplotlib.figure.Figure at 0x2b327e65f590>"
      ]
     },
     "metadata": {},
     "output_type": "display_data"
    }
   ],
   "source": [
    "#Make some plots\n",
    "ax = plt.hist(pddir[\"size\"]/(1024.*1024.*1024))\n",
    "plt.yscale('log')\n",
    "plt.xlabel(\"Size in GB\")"
   ]
  }
 ],
 "metadata": {
  "anaconda-cloud": {},
  "kernelspec": {
   "display_name": "pyspark (2.0.0)",
   "language": "python",
   "name": "pyspark_2.0.0"
  },
  "language_info": {
   "codemirror_mode": {
    "name": "ipython",
    "version": 2
   },
   "file_extension": ".py",
   "mimetype": "text/x-python",
   "name": "python",
   "nbconvert_exporter": "python",
   "pygments_lexer": "ipython2",
   "version": "2.7.12"
  }
 },
 "nbformat": 4,
 "nbformat_minor": 0
}
